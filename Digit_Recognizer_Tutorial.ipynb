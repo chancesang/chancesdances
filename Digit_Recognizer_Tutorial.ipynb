{
  "cells": [
    {
      "metadata": {
        "_cell_guid": "00b63778-674d-0a2d-e5b0-8956c5ce1770",
        "_uuid": "e87ad12f4fa51825a7468907fd9c6c3522abb220"
      },
      "cell_type": "markdown",
      "source": "## Introduction\n###Let me start by saying, this is not the best way to classify digits! This notebook is rather meant to be for someone who might not know where to start. As an ml beginner myself, I find it helpful to play with these sorts of commented kernels. Any suggestions for improvement or comments on poor coding practices are appreciated!"
    },
    {
      "metadata": {
        "trusted": true,
        "_uuid": "7358d6c936c9c002a3a8e456dd89e2556c4eef41",
        "collapsed": true
      },
      "cell_type": "code",
      "source": "",
      "execution_count": null,
      "outputs": []
    },
    {
      "metadata": {
        "_cell_guid": "d0abbfc5-e04e-98d3-8c5c-37d114daa804",
        "_uuid": "6a4570a0f2c92b955adf577d73a4cc77e434e3bd",
        "trusted": true,
        "collapsed": true
      },
      "cell_type": "code",
      "source": "import pandas as pd\nimport matplotlib.pyplot as plt, matplotlib.image as mpimg\nfrom sklearn.model_selection import train_test_split\nfrom sklearn import svm\n%matplotlib inline",
      "execution_count": null,
      "outputs": []
    },
    {
      "metadata": {
        "_cell_guid": "11f567ca-77d0-2c41-bbc9-a60396caacea",
        "_uuid": "4284e6eab4cd4998065f3ac877633890e6c15d6c"
      },
      "cell_type": "markdown",
      "source": "## Loading the data\n- We use panda's [read_csv][1]  to read train.csv into a [dataframe][2].\n- Then we separate our images and labels for supervised learning. \n- We also do a [train_test_split][3] to break our data into two sets, one for training and one for testing. This let's us measure how well our model was trained by later inputting some known test data.\n\n### For the sake of time, we're only using 5000 images. You should increase or decrease this number to see how it affects model training.\n\n\n  [1]: http://pandas.pydata.org/pandas-docs/stable/generated/pandas.read_csv.html\n  [2]: http://pandas.pydata.org/pandas-docs/stable/generated/pandas.DataFrame.html#pandas.DataFrame\n  [3]: http://scikit-learn.org/stable/modules/generated/sklearn.model_selection.train_test_split.html"
    },
    {
      "metadata": {
        "_cell_guid": "e8c0e206-f504-253f-8ac6-2c50eff06b58",
        "_uuid": "4c224769aeee733dfcdac67edca727594024d33b",
        "trusted": true,
        "collapsed": true
      },
      "cell_type": "code",
      "source": "labeled_images = pd.read_csv('../input/train.csv')\nimages = labeled_images.iloc[0:5000,1:]\nlabels = labeled_images.iloc[0:5000,:1]\ntrain_images, test_images,train_labels, test_labels = train_test_split(images, labels, train_size=0.8, random_state=0)",
      "execution_count": null,
      "outputs": []
    },
    {
      "metadata": {
        "_cell_guid": "caa9e676-3656-5509-0aa4-a503437f727f",
        "_uuid": "ed3c95ae9c11ee7b68b88efb7250fc6ab113e1b6"
      },
      "cell_type": "markdown",
      "source": "\n## Viewing an Image\n- Since the image is currently one-dimension, we load it into a [numpy array][1] and [reshape][2] it so that it is two-dimensional (28x28 pixels)\n- Then, we plot the image and label with matplotlib\n\n### You can change the value of variable <i>i</i> to check out other images and labels.\n\n\n  [1]: https://docs.scipy.org/doc/numpy/reference/generated/numpy.array.html\n  [2]: https://docs.scipy.org/doc/numpy/reference/generated/numpy.reshape.html"
    },
    {
      "metadata": {
        "_cell_guid": "dc43b65b-d3d9-8208-e7a2-88c2535b506f",
        "_uuid": "609e52cdf5ba5532d8ffb5b986c2b96f921245e5",
        "trusted": true,
        "collapsed": true
      },
      "cell_type": "code",
      "source": "i=100 #different images, up to 5,000\nimg=train_images.iloc[i].as_matrix()\nimg=img.reshape((28,28))\nplt.imshow(img,cmap='gray')\nplt.title(train_labels.iloc[i,0])",
      "execution_count": null,
      "outputs": []
    },
    {
      "metadata": {
        "_cell_guid": "42a5a5bd-83be-7116-7cd5-20cbc8336417",
        "_uuid": "40d16412cf7406eb57b9872747b15572ee1e4f14"
      },
      "cell_type": "markdown",
      "source": "## Examining the Pixel Values\n### Note that these images aren't actually black and white (0,1). They are gray-scale (0-255). \n- A [histogram][1] of this image's pixel values shows the range.\n\n\n  [1]: http://matplotlib.org/api/pyplot_api.html#matplotlib.pyplot.hist"
    },
    {
      "metadata": {
        "_cell_guid": "b6143ae2-eb4e-a4af-aad3-37fa85b657b7",
        "_uuid": "4776fc55c13860a3a15fb616a40e88ac16befe8a",
        "trusted": true,
        "collapsed": true
      },
      "cell_type": "code",
      "source": "plt.hist(train_images.iloc[i])",
      "execution_count": null,
      "outputs": []
    },
    {
      "metadata": {
        "_cell_guid": "b7f8578b-9985-4ccc-eab5-82465d7cad8b",
        "_uuid": "640b2d2e15e40c5b87f21fbde6c08f2725fc3412"
      },
      "cell_type": "markdown",
      "source": "## Training our model\n- First, we use the [sklearn.svm][1] module to create a [vector classifier][2]. \n- Next, we pass our training images and labels to the classifier's [fit][3] method, which trains our model. \n- Finally, the test images and labels are passed to the [score][4] method to see how well we trained our model. Fit will return a float between 0-1 indicating our accuracy on the test data set\n\n### Try playing with the parameters of svm.SVC to see how the results change. \n\n\n  [1]: http://scikit-learn.org/stable/modules/svm.html\n  [2]: http://scikit-learn.org/stable/modules/generated/sklearn.svm.SVC.html\n  [3]: http://scikit-learn.org/stable/modules/generated/sklearn.svm.SVC.html#sklearn.svm.SVC.fit\n  [4]: http://scikit-learn.org/stable/modules/generated/sklearn.svm.SVC.html#sklearn.svm.SVC.score\n  [5]: http://scikit-learn.org/stable/modules/generated/sklearn.svm.SVC.html#sklearn.svm.SVC.score"
    },
    {
      "metadata": {
        "_cell_guid": "e35c02d7-4510-3202-a7b4-fb3accde0c5a",
        "_uuid": "573b1f0ff0ada89f6348ceca3b242071b7d7030e",
        "trusted": true,
        "collapsed": true
      },
      "cell_type": "code",
      "source": "help(svm.SVC())\nclf = svm.SVC()  #what parameters significantly affect this function?\nclf.fit(train_images, train_labels.values.ravel())\nclf.score(test_images,test_labels)",
      "execution_count": null,
      "outputs": []
    },
    {
      "metadata": {
        "_cell_guid": "61729c3a-fc18-d204-1e72-a453af1ff0a3",
        "_uuid": "1cd038c0aaf2efaa10b0f3a345a96e3def733a6c"
      },
      "cell_type": "markdown",
      "source": "## How did our model do?\n### You should have gotten around 0.10, or 10% accuracy. This is terrible. 10% accuracy is what get if you randomly guess a number. There are many ways to improve this, including not using a vector classifier, but here's a simple one to start. Let's just simplify our images by making them true black and white.\n\n- To make this easy, any pixel with a value simply becomes 1 and everything else remains 0.\n- We'll plot the same image again to see how it looks now that it's black and white. Look at the histogram now."
    },
    {
      "metadata": {
        "_cell_guid": "b5f3a212-b832-55af-d228-9b1931dcbc32",
        "_uuid": "b505e5740797d44eb576242885290dc8df6a826f",
        "trusted": true,
        "collapsed": true
      },
      "cell_type": "code",
      "source": "test_images[test_images>0]=1\ntrain_images[train_images>0]=1\n\n\nimg=train_images.iloc[i].as_matrix().reshape((28,28))\nplt.imshow(img,cmap='binary')\nplt.title(train_labels.iloc[i])",
      "execution_count": null,
      "outputs": []
    },
    {
      "metadata": {
        "_cell_guid": "edbe1d68-3224-1bf4-b571-a3bd845c3de5",
        "_uuid": "ce4f4aa6d6a985ff79b034584e335a6a45d24952",
        "trusted": true,
        "collapsed": true
      },
      "cell_type": "code",
      "source": "plt.hist(train_images.iloc[i])",
      "execution_count": null,
      "outputs": []
    },
    {
      "metadata": {
        "_cell_guid": "785c75aa-06f7-fce3-b690-038356d4a51c",
        "_uuid": "f5c30d5b1e46551c252c69a25f756b7f82774dbc"
      },
      "cell_type": "markdown",
      "source": "## Retraining our model\n### We follow the same procedure as before, but now our training and test sets are black and white instead of gray-scale. Our score still isn't great, but it's a huge improvement."
    },
    {
      "metadata": {
        "_cell_guid": "6f0355ef-d019-c814-11ff-795f81d041f1",
        "_uuid": "682379e737efe5cda4b1af861d7dc5ce8349b84e",
        "trusted": true,
        "collapsed": true
      },
      "cell_type": "code",
      "source": "help(svm.SVC)\nclf = svm.SVC()\nclf.fit(train_images, train_labels.values.ravel())\nclf.score(test_images,test_labels)",
      "execution_count": null,
      "outputs": []
    },
    {
      "metadata": {
        "trusted": true,
        "scrolled": false,
        "_uuid": "833726ff88a9ca8b9d9d2bd37d935949e6c444d9",
        "collapsed": true
      },
      "cell_type": "code",
      "source": "import numpy as np\nfrom sklearn.model_selection import GridSearchCV\nC1 = np.arange(0.05, 2.05, 0.05)\ngamma = np.arange(0.001, 0.101, 0.001)\n\ngrid = GridSearchCV(estimator=clf, param_grid = dict(C = C1))\ngrid.fit(train_images, train_labels.values.ravel())\nprint(grid)",
      "execution_count": null,
      "outputs": []
    },
    {
      "metadata": {
        "_cell_guid": "7ca53ece-d50a-efe5-d242-dea8d089244b",
        "_uuid": "8f518d49c777d65ad69d5bef22099d8ade7ccce9"
      },
      "cell_type": "markdown",
      "source": "## Labelling the test data\n### Now for those making competition submissions, we can load and predict the unlabeled data from test.csv. Again, for time we're just using the first 5000 images. We then output this data to a results.csv for competition submission."
    },
    {
      "metadata": {
        "_cell_guid": "8fa0b0aa-1bf3-dcd3-6ef2-fae5ccda55b3",
        "_uuid": "61e2b01a4d60155d08fb6f559fb036f17bcee7d5",
        "trusted": true,
        "collapsed": true
      },
      "cell_type": "code",
      "source": "test_data=pd.read_csv('../input/test.csv')\ntest_data[test_data>0]=1\nresults=clf.predict(test_data[0:5001])",
      "execution_count": null,
      "outputs": []
    },
    {
      "metadata": {
        "_cell_guid": "aa6f3fd3-8ff6-80b4-68ae-261172ebe580",
        "_uuid": "d07937922498ca290a661da5a8b386aa72421dc6",
        "trusted": true,
        "collapsed": true
      },
      "cell_type": "code",
      "source": "results",
      "execution_count": null,
      "outputs": []
    },
    {
      "metadata": {
        "_cell_guid": "28ec8d56-d3f6-573d-2230-bc5a410868c6",
        "_uuid": "7b582784f56b7741166a1c6afa1622e533cf340f",
        "trusted": true,
        "collapsed": true
      },
      "cell_type": "code",
      "source": "df = pd.DataFrame(results)\ndf.index.name='ImageId'\ndf.index+=1\ndf.columns=['Label']\ndf.to_csv('results.csv', header=True)",
      "execution_count": null,
      "outputs": []
    },
    {
      "metadata": {
        "trusted": true,
        "_uuid": "88cee7babaabc096822edff6f8e0ca2f130544d0",
        "collapsed": true
      },
      "cell_type": "code",
      "source": "classifier = [svm.SVC()]\nname = [\"SVC Result\"]",
      "execution_count": null,
      "outputs": []
    },
    {
      "metadata": {
        "trusted": true,
        "_uuid": "e1829b332e5e136457bbd3aa1fa47990e892176e",
        "collapsed": true
      },
      "cell_type": "code",
      "source": "from sklearn.metrics import classification_report",
      "execution_count": null,
      "outputs": []
    },
    {
      "metadata": {
        "_cell_guid": "097e0f0a-246c-2f96-cd2d-b5cd75f26a65",
        "_uuid": "2367dea8c7a9b52d341ea93037495b02ae858b6f",
        "trusted": true,
        "collapsed": true
      },
      "cell_type": "code",
      "source": "for name1, clf in zip(name, classifier):\n    clf.fit(train_images, train_labels)\n    score = clf.score(test_images,test_labels)\n    print(\"{:12} {}\".format(name1,\"-\"*15))\n    print(classification_report(test_labels, clf.predict(test_images), digits=3))",
      "execution_count": null,
      "outputs": []
    },
    {
      "metadata": {
        "trusted": true,
        "_uuid": "95095e3f90a1a8b7ae7c97f284ed41904e4664f3",
        "collapsed": true
      },
      "cell_type": "code",
      "source": "",
      "execution_count": null,
      "outputs": []
    }
  ],
  "metadata": {
    "_change_revision": 0,
    "_is_fork": false,
    "kernelspec": {
      "display_name": "Python 3",
      "language": "python",
      "name": "python3"
    },
    "language_info": {
      "name": "python",
      "version": "3.6.6",
      "mimetype": "text/x-python",
      "codemirror_mode": {
        "name": "ipython",
        "version": 3
      },
      "pygments_lexer": "ipython3",
      "nbconvert_exporter": "python",
      "file_extension": ".py"
    }
  },
  "nbformat": 4,
  "nbformat_minor": 1
}
